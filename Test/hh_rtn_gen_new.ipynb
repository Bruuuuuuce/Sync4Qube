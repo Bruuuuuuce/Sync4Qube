{
 "cells": [
  {
   "cell_type": "code",
   "execution_count": 1,
   "metadata": {},
   "outputs": [],
   "source": [
    "import multiprocessing as mp\n",
    "import time\n",
    "import random\n",
    "from functools import partial\n",
    "from tqdm import tqdm\n",
    "\n",
    "import numpy as np\n",
    "import pandas as pd\n",
    "from PqiData import *\n",
    "from PqiDataSdk import *\n",
    "\n",
    "ds = PqiDataSdk(size=1)"
   ]
  },
  {
   "cell_type": "code",
   "execution_count": 2,
   "metadata": {},
   "outputs": [],
   "source": [
    "ticker = '000001'\n",
    "start_date = '20170101'\n",
    "end_date = '20220831'\n",
    "\n",
    "date_list = ds.get_trade_dates(start_date=start_date, end_date=end_date)\n",
    "tickers = ds.get_ticker_list(date='all')\n",
    "adj_df = ds.get_eod_history(fields=['AdjFactor'],\n",
    "                            start_date=start_date,\n",
    "                            end_date=end_date)['AdjFactor']"
   ]
  },
  {
   "cell_type": "code",
   "execution_count": 3,
   "metadata": {},
   "outputs": [],
   "source": [
    "mins_data = ds.get_mins_history(tickers=['000001'],\n",
    "                                start_date='20190102',\n",
    "                                end_date='20190102',\n",
    "                                begin_time='93000',\n",
    "                                end_time='145700')['000001']['20190102']\n",
    "mins_data['hh_bar'] = np.floor(mins_data.index//30).astype(int)\n",
    "frame_date = mins_data.groupby('hh_bar',).mean()['Twap']\n",
    "frame_date = frame_date - frame_date\n",
    "frame = pd.DataFrame({k: frame_date for k in date_list})"
   ]
  },
  {
   "cell_type": "code",
   "execution_count": 4,
   "metadata": {
    "tags": []
   },
   "outputs": [
    {
     "data": {
      "text/html": [
       "<div>\n",
       "<style scoped>\n",
       "    .dataframe tbody tr th:only-of-type {\n",
       "        vertical-align: middle;\n",
       "    }\n",
       "\n",
       "    .dataframe tbody tr th {\n",
       "        vertical-align: top;\n",
       "    }\n",
       "\n",
       "    .dataframe thead th {\n",
       "        text-align: right;\n",
       "    }\n",
       "</style>\n",
       "<table border=\"1\" class=\"dataframe\">\n",
       "  <thead>\n",
       "    <tr style=\"text-align: right;\">\n",
       "      <th></th>\n",
       "      <th>20170103</th>\n",
       "      <th>20170104</th>\n",
       "      <th>20170105</th>\n",
       "      <th>20170106</th>\n",
       "      <th>20170109</th>\n",
       "      <th>20170110</th>\n",
       "      <th>20170111</th>\n",
       "      <th>20170112</th>\n",
       "      <th>20170113</th>\n",
       "      <th>20170116</th>\n",
       "      <th>...</th>\n",
       "      <th>20220818</th>\n",
       "      <th>20220819</th>\n",
       "      <th>20220822</th>\n",
       "      <th>20220823</th>\n",
       "      <th>20220824</th>\n",
       "      <th>20220825</th>\n",
       "      <th>20220826</th>\n",
       "      <th>20220829</th>\n",
       "      <th>20220830</th>\n",
       "      <th>20220831</th>\n",
       "    </tr>\n",
       "    <tr>\n",
       "      <th>hh_bar</th>\n",
       "      <th></th>\n",
       "      <th></th>\n",
       "      <th></th>\n",
       "      <th></th>\n",
       "      <th></th>\n",
       "      <th></th>\n",
       "      <th></th>\n",
       "      <th></th>\n",
       "      <th></th>\n",
       "      <th></th>\n",
       "      <th></th>\n",
       "      <th></th>\n",
       "      <th></th>\n",
       "      <th></th>\n",
       "      <th></th>\n",
       "      <th></th>\n",
       "      <th></th>\n",
       "      <th></th>\n",
       "      <th></th>\n",
       "      <th></th>\n",
       "      <th></th>\n",
       "    </tr>\n",
       "  </thead>\n",
       "  <tbody>\n",
       "    <tr>\n",
       "      <th>0</th>\n",
       "      <td>0.000</td>\n",
       "      <td>0.000</td>\n",
       "      <td>0.000</td>\n",
       "      <td>0.000</td>\n",
       "      <td>0.000</td>\n",
       "      <td>0.000</td>\n",
       "      <td>0.000</td>\n",
       "      <td>0.000</td>\n",
       "      <td>0.000</td>\n",
       "      <td>0.000</td>\n",
       "      <td>...</td>\n",
       "      <td>0.000</td>\n",
       "      <td>0.000</td>\n",
       "      <td>0.000</td>\n",
       "      <td>0.000</td>\n",
       "      <td>0.000</td>\n",
       "      <td>0.000</td>\n",
       "      <td>0.000</td>\n",
       "      <td>0.000</td>\n",
       "      <td>0.000</td>\n",
       "      <td>0.000</td>\n",
       "    </tr>\n",
       "    <tr>\n",
       "      <th>1</th>\n",
       "      <td>0.000</td>\n",
       "      <td>0.000</td>\n",
       "      <td>0.000</td>\n",
       "      <td>0.000</td>\n",
       "      <td>0.000</td>\n",
       "      <td>0.000</td>\n",
       "      <td>0.000</td>\n",
       "      <td>0.000</td>\n",
       "      <td>0.000</td>\n",
       "      <td>0.000</td>\n",
       "      <td>...</td>\n",
       "      <td>0.000</td>\n",
       "      <td>0.000</td>\n",
       "      <td>0.000</td>\n",
       "      <td>0.000</td>\n",
       "      <td>0.000</td>\n",
       "      <td>0.000</td>\n",
       "      <td>0.000</td>\n",
       "      <td>0.000</td>\n",
       "      <td>0.000</td>\n",
       "      <td>0.000</td>\n",
       "    </tr>\n",
       "    <tr>\n",
       "      <th>2</th>\n",
       "      <td>0.000</td>\n",
       "      <td>0.000</td>\n",
       "      <td>0.000</td>\n",
       "      <td>0.000</td>\n",
       "      <td>0.000</td>\n",
       "      <td>0.000</td>\n",
       "      <td>0.000</td>\n",
       "      <td>0.000</td>\n",
       "      <td>0.000</td>\n",
       "      <td>0.000</td>\n",
       "      <td>...</td>\n",
       "      <td>0.000</td>\n",
       "      <td>0.000</td>\n",
       "      <td>0.000</td>\n",
       "      <td>0.000</td>\n",
       "      <td>0.000</td>\n",
       "      <td>0.000</td>\n",
       "      <td>0.000</td>\n",
       "      <td>0.000</td>\n",
       "      <td>0.000</td>\n",
       "      <td>0.000</td>\n",
       "    </tr>\n",
       "    <tr>\n",
       "      <th>3</th>\n",
       "      <td>0.000</td>\n",
       "      <td>0.000</td>\n",
       "      <td>0.000</td>\n",
       "      <td>0.000</td>\n",
       "      <td>0.000</td>\n",
       "      <td>0.000</td>\n",
       "      <td>0.000</td>\n",
       "      <td>0.000</td>\n",
       "      <td>0.000</td>\n",
       "      <td>0.000</td>\n",
       "      <td>...</td>\n",
       "      <td>0.000</td>\n",
       "      <td>0.000</td>\n",
       "      <td>0.000</td>\n",
       "      <td>0.000</td>\n",
       "      <td>0.000</td>\n",
       "      <td>0.000</td>\n",
       "      <td>0.000</td>\n",
       "      <td>0.000</td>\n",
       "      <td>0.000</td>\n",
       "      <td>0.000</td>\n",
       "    </tr>\n",
       "    <tr>\n",
       "      <th>4</th>\n",
       "      <td>0.000</td>\n",
       "      <td>0.000</td>\n",
       "      <td>0.000</td>\n",
       "      <td>0.000</td>\n",
       "      <td>0.000</td>\n",
       "      <td>0.000</td>\n",
       "      <td>0.000</td>\n",
       "      <td>0.000</td>\n",
       "      <td>0.000</td>\n",
       "      <td>0.000</td>\n",
       "      <td>...</td>\n",
       "      <td>0.000</td>\n",
       "      <td>0.000</td>\n",
       "      <td>0.000</td>\n",
       "      <td>0.000</td>\n",
       "      <td>0.000</td>\n",
       "      <td>0.000</td>\n",
       "      <td>0.000</td>\n",
       "      <td>0.000</td>\n",
       "      <td>0.000</td>\n",
       "      <td>0.000</td>\n",
       "    </tr>\n",
       "    <tr>\n",
       "      <th>5</th>\n",
       "      <td>0.000</td>\n",
       "      <td>0.000</td>\n",
       "      <td>0.000</td>\n",
       "      <td>0.000</td>\n",
       "      <td>0.000</td>\n",
       "      <td>0.000</td>\n",
       "      <td>0.000</td>\n",
       "      <td>0.000</td>\n",
       "      <td>0.000</td>\n",
       "      <td>0.000</td>\n",
       "      <td>...</td>\n",
       "      <td>0.000</td>\n",
       "      <td>0.000</td>\n",
       "      <td>0.000</td>\n",
       "      <td>0.000</td>\n",
       "      <td>0.000</td>\n",
       "      <td>0.000</td>\n",
       "      <td>0.000</td>\n",
       "      <td>0.000</td>\n",
       "      <td>0.000</td>\n",
       "      <td>0.000</td>\n",
       "    </tr>\n",
       "    <tr>\n",
       "      <th>6</th>\n",
       "      <td>0.000</td>\n",
       "      <td>0.000</td>\n",
       "      <td>0.000</td>\n",
       "      <td>0.000</td>\n",
       "      <td>0.000</td>\n",
       "      <td>0.000</td>\n",
       "      <td>0.000</td>\n",
       "      <td>0.000</td>\n",
       "      <td>0.000</td>\n",
       "      <td>0.000</td>\n",
       "      <td>...</td>\n",
       "      <td>0.000</td>\n",
       "      <td>0.000</td>\n",
       "      <td>0.000</td>\n",
       "      <td>0.000</td>\n",
       "      <td>0.000</td>\n",
       "      <td>0.000</td>\n",
       "      <td>0.000</td>\n",
       "      <td>0.000</td>\n",
       "      <td>0.000</td>\n",
       "      <td>0.000</td>\n",
       "    </tr>\n",
       "    <tr>\n",
       "      <th>7</th>\n",
       "      <td>0.000</td>\n",
       "      <td>0.000</td>\n",
       "      <td>0.000</td>\n",
       "      <td>0.000</td>\n",
       "      <td>0.000</td>\n",
       "      <td>0.000</td>\n",
       "      <td>0.000</td>\n",
       "      <td>0.000</td>\n",
       "      <td>0.000</td>\n",
       "      <td>0.000</td>\n",
       "      <td>...</td>\n",
       "      <td>0.000</td>\n",
       "      <td>0.000</td>\n",
       "      <td>0.000</td>\n",
       "      <td>0.000</td>\n",
       "      <td>0.000</td>\n",
       "      <td>0.000</td>\n",
       "      <td>0.000</td>\n",
       "      <td>0.000</td>\n",
       "      <td>0.000</td>\n",
       "      <td>0.000</td>\n",
       "    </tr>\n",
       "  </tbody>\n",
       "</table>\n",
       "<p>8 rows × 1378 columns</p>\n",
       "</div>"
      ],
      "text/plain": [
       "        20170103  20170104  20170105  20170106  20170109  20170110  20170111  \\\n",
       "hh_bar                                                                         \n",
       "0          0.000     0.000     0.000     0.000     0.000     0.000     0.000   \n",
       "1          0.000     0.000     0.000     0.000     0.000     0.000     0.000   \n",
       "2          0.000     0.000     0.000     0.000     0.000     0.000     0.000   \n",
       "3          0.000     0.000     0.000     0.000     0.000     0.000     0.000   \n",
       "4          0.000     0.000     0.000     0.000     0.000     0.000     0.000   \n",
       "5          0.000     0.000     0.000     0.000     0.000     0.000     0.000   \n",
       "6          0.000     0.000     0.000     0.000     0.000     0.000     0.000   \n",
       "7          0.000     0.000     0.000     0.000     0.000     0.000     0.000   \n",
       "\n",
       "        20170112  20170113  20170116  ...  20220818  20220819  20220822  \\\n",
       "hh_bar                                ...                                 \n",
       "0          0.000     0.000     0.000  ...     0.000     0.000     0.000   \n",
       "1          0.000     0.000     0.000  ...     0.000     0.000     0.000   \n",
       "2          0.000     0.000     0.000  ...     0.000     0.000     0.000   \n",
       "3          0.000     0.000     0.000  ...     0.000     0.000     0.000   \n",
       "4          0.000     0.000     0.000  ...     0.000     0.000     0.000   \n",
       "5          0.000     0.000     0.000  ...     0.000     0.000     0.000   \n",
       "6          0.000     0.000     0.000  ...     0.000     0.000     0.000   \n",
       "7          0.000     0.000     0.000  ...     0.000     0.000     0.000   \n",
       "\n",
       "        20220823  20220824  20220825  20220826  20220829  20220830  20220831  \n",
       "hh_bar                                                                        \n",
       "0          0.000     0.000     0.000     0.000     0.000     0.000     0.000  \n",
       "1          0.000     0.000     0.000     0.000     0.000     0.000     0.000  \n",
       "2          0.000     0.000     0.000     0.000     0.000     0.000     0.000  \n",
       "3          0.000     0.000     0.000     0.000     0.000     0.000     0.000  \n",
       "4          0.000     0.000     0.000     0.000     0.000     0.000     0.000  \n",
       "5          0.000     0.000     0.000     0.000     0.000     0.000     0.000  \n",
       "6          0.000     0.000     0.000     0.000     0.000     0.000     0.000  \n",
       "7          0.000     0.000     0.000     0.000     0.000     0.000     0.000  \n",
       "\n",
       "[8 rows x 1378 columns]"
      ]
     },
     "execution_count": 4,
     "metadata": {},
     "output_type": "execute_result"
    }
   ],
   "source": [
    "frame"
   ]
  },
  {
   "cell_type": "code",
   "execution_count": 5,
   "metadata": {},
   "outputs": [],
   "source": [
    "def get_hh_twap_ret_intra(ticker, freq=30):\n",
    "    time.sleep(0.05)\n",
    "    mins_data = ds.get_mins_history(tickers=[ticker],\n",
    "                                    start_date=start_date,\n",
    "                                    end_date=end_date,\n",
    "                                    begin_time='93000',\n",
    "                                    end_time='145700')[ticker]\n",
    "    twap_date = {}\n",
    "    for date in mins_data.keys():\n",
    "        try:\n",
    "            data = mins_data[date]\n",
    "            # adj = adj_df.loc[ticker, date]\n",
    "            data['hh_bar'] = np.floor(data.index//freq).astype(int)\n",
    "            # twap_date[date] = data.groupby('hh_bar',).mean()['Twap'] * adj\n",
    "            twap_date[date] = data.groupby('hh_bar',).mean()['Twap']\n",
    "        except Exception as e:\n",
    "            pass\n",
    "\n",
    "    twap = pd.DataFrame(twap_date) + frame\n",
    "    twap_stack = twap.T.stack(dropna=False)\n",
    "    twap_ret = twap_stack.diff()/twap_stack.shift()\n",
    "    return twap_ret"
   ]
  },
  {
   "cell_type": "code",
   "execution_count": 6,
   "metadata": {},
   "outputs": [],
   "source": [
    "def get_hh_twap_ret(ticker, window=1, freq=30):\n",
    "    time.sleep(0.05)\n",
    "    mins_data = ds.get_mins_history(tickers=[ticker],\n",
    "                                    start_date=start_date,\n",
    "                                    end_date=end_date,\n",
    "                                    begin_time='93000',\n",
    "                                    end_time='145700')[ticker]\n",
    "    twap_date = {}\n",
    "    for date in mins_data.keys():\n",
    "        try:\n",
    "            data = mins_data[date]\n",
    "            # adj = adj_df.loc[ticker, date]\n",
    "            data['hh_bar'] = np.floor(data.index//freq).astype(int)\n",
    "            # twap_date[date] = data.groupby('hh_bar',).mean()['Twap'] * adj\n",
    "            twap_date[date] = data.groupby('hh_bar',).mean()['Twap']\n",
    "        except Exception as e:\n",
    "            pass\n",
    "\n",
    "    twap = pd.DataFrame(twap_date) + frame\n",
    "    twap_ret = (twap.diff(window,axis=1)/twap.shift(window,axis=1)).shift(-window,axis=1)\n",
    "    twap_ret = twap_ret.T.stack(dropna=False).shift(-1)\n",
    "    return twap_ret"
   ]
  },
  {
   "cell_type": "code",
   "execution_count": 83,
   "metadata": {},
   "outputs": [],
   "source": [
    "def get_hh_twap_ret_multi(ticker, windows=[1,], freq=30):\n",
    "    time.sleep(0.05)\n",
    "    mins_data = ds.get_mins_history(tickers=[ticker],\n",
    "                                    start_date=start_date,\n",
    "                                    end_date=end_date,\n",
    "                                    begin_time='93000',\n",
    "                                    end_time='145700')[ticker]\n",
    "    twap_date = {}\n",
    "    for date in mins_data.keys():\n",
    "        try:\n",
    "            data = mins_data[date]\n",
    "            # adj = adj_df.loc[ticker, date]\n",
    "            data['hh_bar'] = np.floor(data.index//freq).astype(int)\n",
    "            # twap_date[date] = data.groupby('hh_bar',).mean()['Twap'] * adj\n",
    "            twap_date[date] = data.groupby('hh_bar',).mean()['Twap']\n",
    "        except Exception as e:\n",
    "            pass\n",
    "    \n",
    "    twap = pd.DataFrame(twap_date) + frame\n",
    "    dict_twap_ret = {}\n",
    "    for window in windows:\n",
    "        twap_ret = (twap.diff(window,axis=1)/twap.shift(window,axis=1)).shift(-window,axis=1)\n",
    "        twap_ret = twap_ret.T.stack(dropna=False).shift(-1)\n",
    "        dict_twap_ret[window] = twap_ret\n",
    "    return dict_twap_ret"
   ]
  },
  {
   "cell_type": "markdown",
   "metadata": {},
   "source": [
    "计算隔日收益"
   ]
  },
  {
   "cell_type": "code",
   "execution_count": 7,
   "metadata": {
    "tags": []
   },
   "outputs": [
    {
     "name": "stderr",
     "output_type": "stream",
     "text": [
      "100%|██████████| 5004/5004 [1:45:34<00:00,  1.27s/it]  \n"
     ]
    }
   ],
   "source": [
    "with mp.Pool(processes = 128) as pool:\n",
    "    result = list(tqdm(pool.imap(get_hh_twap_ret, tickers), total = len(tickers)))"
   ]
  },
  {
   "cell_type": "code",
   "execution_count": 8,
   "metadata": {},
   "outputs": [],
   "source": [
    "df_ret = pd.DataFrame({tickers[i]: result[i] for i in range(len(result))})\n",
    "\n",
    "df_ret.index.names=[None, None]\n",
    "\n",
    "df_ret = df_ret.stack().reset_index().set_index(['level_2','level_0','level_1']).sort_index()\n",
    "\n",
    "df_ret.index.names=[None, None, None]\n",
    "df_ret.columns = ['ret']"
   ]
  },
  {
   "cell_type": "code",
   "execution_count": 9,
   "metadata": {},
   "outputs": [],
   "source": [
    "df_ret.to_parquet(\"/home/shared/Data/data/shared/low_fre_alpha/zy_shared/gru/data/hfRet_1d_30min_new.parquet\")"
   ]
  },
  {
   "cell_type": "markdown",
   "metadata": {},
   "source": [
    "计算衍生target"
   ]
  },
  {
   "cell_type": "code",
   "execution_count": 160,
   "metadata": {},
   "outputs": [],
   "source": [
    "def save_target(day=3, check=False):\n",
    "    df_ret = pd.read_parquet(f\"/home/shared/Data/data/shared/low_fre_alpha/zy_shared/gru/data/hfRet_{day}d_30min.parquet\")\n",
    "\n",
    "    df_ret_alpha = df_ret.reset_index().groupby(\n",
    "        ['level_1', 'level_2'])['ret'].apply(lambda x: x - x.mean())\n",
    "\n",
    "    df_ret_csnorm = df_ret.reset_index().groupby([\n",
    "        'level_1', 'level_2'\n",
    "    ])['ret'].apply(lambda x: (x - x.mean()) / (x.quantile(0.9) - x.quantile(0.1)))\n",
    "\n",
    "    df_ret_rank = df_ret.reset_index().groupby(['level_1',\n",
    "                                                'level_2'])['ret'].rank(pct=True)\n",
    "    \n",
    "    df_ret['ret'] = df_ret_alpha.values\n",
    "    df_ret.to_parquet(f\"/home/shared/Data/data/shared/low_fre_alpha/zy_shared/gru/data/hfRet_alpha_{day}d_30min.parquet\")\n",
    "    df_ret['ret'] = df_ret_csnorm.values\n",
    "    df_ret.to_parquet(f\"/home/shared/Data/data/shared/low_fre_alpha/zy_shared/gru/data/hfRet_csnorm_{day}d_30min.parquet\")\n",
    "    df_ret['ret'] = df_ret_rank.values\n",
    "    df_ret.to_parquet(f\"/home/shared/Data/data/shared/low_fre_alpha/zy_shared/gru/data/hfRet_rank_{day}d_30min.parquet\")"
   ]
  },
  {
   "cell_type": "code",
   "execution_count": 162,
   "metadata": {},
   "outputs": [],
   "source": [
    "save_target(day=3)"
   ]
  },
  {
   "cell_type": "code",
   "execution_count": 166,
   "metadata": {},
   "outputs": [],
   "source": [
    "save_target(day=5)"
   ]
  },
  {
   "cell_type": "code",
   "execution_count": 167,
   "metadata": {},
   "outputs": [],
   "source": [
    "save_target(day=10)"
   ]
  },
  {
   "cell_type": "markdown",
   "metadata": {},
   "source": [
    "计算日内收益"
   ]
  },
  {
   "cell_type": "code",
   "execution_count": 11,
   "metadata": {},
   "outputs": [
    {
     "name": "stderr",
     "output_type": "stream",
     "text": [
      "100%|██████████| 5004/5004 [2:51:41<00:00,  2.06s/it]   \n"
     ]
    }
   ],
   "source": [
    "with mp.Pool(processes = 256) as pool:\n",
    "    result = list(tqdm(pool.imap(get_hh_twap_ret_intra, tickers), total = len(tickers)))"
   ]
  },
  {
   "cell_type": "code",
   "execution_count": 12,
   "metadata": {},
   "outputs": [],
   "source": [
    "df_ret = pd.DataFrame({tickers[i]: result[i] for i in range(len(result))})\n",
    "\n",
    "df_ret.index.names=[None, None]\n",
    "\n",
    "df_ret = df_ret.stack().reset_index().set_index(['level_2','level_0','level_1']).sort_index()\n",
    "\n",
    "df_ret.index.names=[None, None, None]\n",
    "df_ret.columns = ['ret']"
   ]
  },
  {
   "cell_type": "code",
   "execution_count": 30,
   "metadata": {},
   "outputs": [],
   "source": [
    "df_ret.to_parquet(\"/home/shared/Data/data/shared/low_fre_alpha/zy_shared/gru/data/hfRet_30min_30min_new.parquet\")"
   ]
  },
  {
   "cell_type": "code",
   "execution_count": null,
   "metadata": {},
   "outputs": [],
   "source": []
  },
  {
   "cell_type": "markdown",
   "metadata": {},
   "source": [
    "计算风险调整target"
   ]
  },
  {
   "cell_type": "code",
   "execution_count": 44,
   "metadata": {},
   "outputs": [],
   "source": [
    "df_ret = pd.read_parquet(\"/home/shared/Data/data/shared/low_fre_alpha/zy_shared/gru/data/hfRet_30min_30min.parquet\")"
   ]
  },
  {
   "cell_type": "code",
   "execution_count": 45,
   "metadata": {},
   "outputs": [],
   "source": [
    "idx0 = list(df_ret.index.levels[0])"
   ]
  },
  {
   "cell_type": "code",
   "execution_count": 46,
   "metadata": {},
   "outputs": [],
   "source": [
    "def get_sharpe(ticker):\n",
    "    lst_temp = []\n",
    "    try:\n",
    "        for window in (1, 3, 5, 10):\n",
    "            df_temp = df_ret.loc[ticker]['ret'].rolling(8*window).mean() / df_ret.loc[ticker]['ret'].rolling(8*window).std()\n",
    "            df_temp = df_temp.shift(-(8*window+1))\n",
    "            lst_temp.append(df_temp)\n",
    "    except:\n",
    "        print(ticker)\n",
    "    return tuple(lst_temp)"
   ]
  },
  {
   "cell_type": "code",
   "execution_count": 47,
   "metadata": {
    "tags": []
   },
   "outputs": [
    {
     "name": "stderr",
     "output_type": "stream",
     "text": [
      "100%|██████████| 4943/4943 [08:15<00:00,  9.97it/s]  \n"
     ]
    }
   ],
   "source": [
    "with mp.Pool(processes = 256) as pool:\n",
    "    result = list(tqdm(pool.imap(get_sharpe, idx0), total = len(idx0)))"
   ]
  },
  {
   "cell_type": "code",
   "execution_count": null,
   "metadata": {},
   "outputs": [],
   "source": []
  },
  {
   "cell_type": "code",
   "execution_count": 66,
   "metadata": {
    "tags": []
   },
   "outputs": [],
   "source": [
    "df_temp = pd.DataFrame({idx0[i]: result[i][3] for i in range(len(idx0))})\n",
    "\n",
    "df_temp = pd.DataFrame(df_temp.unstack(0).unstack(), columns=['ret'])\n",
    "\n",
    "df_temp[df_temp > 10] = np.nan\n",
    "df_temp[df_temp < -10] = np.nan\n",
    "\n",
    "df_temp.to_parquet(\"/home/shared/Data/data/shared/low_fre_alpha/zy_shared/gru/data/hfRet_sharpe_10d_30min.parquet\")"
   ]
  },
  {
   "cell_type": "code",
   "execution_count": null,
   "metadata": {},
   "outputs": [],
   "source": []
  }
 ],
 "metadata": {
  "interpreter": {
   "hash": "f427c85c961426c9752a7a90e2f440bafa8938fad9c7d3cddbe7a28ae872d79b"
  },
  "kernelspec": {
   "display_name": "Python 3 (ipykernel)",
   "language": "python",
   "name": "python3"
  },
  "language_info": {
   "codemirror_mode": {
    "name": "ipython",
    "version": 3
   },
   "file_extension": ".py",
   "mimetype": "text/x-python",
   "name": "python",
   "nbconvert_exporter": "python",
   "pygments_lexer": "ipython3",
   "version": "3.8.13"
  },
  "widgets": {
   "application/vnd.jupyter.widget-state+json": {
    "state": {},
    "version_major": 2,
    "version_minor": 0
   }
  }
 },
 "nbformat": 4,
 "nbformat_minor": 4
}
