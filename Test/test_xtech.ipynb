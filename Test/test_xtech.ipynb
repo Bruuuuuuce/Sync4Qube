{
 "cells": [
  {
   "cell_type": "code",
   "execution_count": 124,
   "id": "57d5dcc4-8669-45b7-b74c-05c30ce91b92",
   "metadata": {},
   "outputs": [
    {
     "name": "stdout",
     "output_type": "stream",
     "text": [
      "INFO: Pandarallel will run on 64 workers.\n",
      "INFO: Pandarallel will use Memory file system to transfer data between the main process and workers.\n"
     ]
    }
   ],
   "source": [
    "import os\n",
    "import random\n",
    "import re\n",
    "\n",
    "import matplotlib.patches as mpathes\n",
    "import matplotlib.pyplot as plt\n",
    "import numpy as np\n",
    "import pandas as pd\n",
    "import scipy\n",
    "import seaborn as sns\n",
    "from matplotlib import ticker\n",
    "from numba import jit\n",
    "from tqdm import tqdm\n",
    "\n",
    "from sklearn.preprocessing import StandardScaler\n",
    "\n",
    "from pandarallel import pandarallel\n",
    "pandarallel.initialize()"
   ]
  },
  {
   "cell_type": "code",
   "execution_count": 2,
   "id": "8cef863d-2f7f-4261-b4d8-7439a6f8db4c",
   "metadata": {},
   "outputs": [],
   "source": [
    "from PqiDataSdk import PqiDataSdk\n",
    "\n",
    "ds = PqiDataSdk(user=\"zyding\", size=128, pool_type=\"mt\")"
   ]
  },
  {
   "cell_type": "code",
   "execution_count": 3,
   "id": "bd3b78af-e43a-4e01-9a37-2e1548dd9317",
   "metadata": {},
   "outputs": [],
   "source": [
    "with open('/home/zyding/xtech/XTECH_factor_name.txt') as f:\n",
    "    lst_xtech_factor_name = eval(f.read())"
   ]
  },
  {
   "cell_type": "code",
   "execution_count": 4,
   "id": "a7ca267f-cb8f-4315-a68c-f2aa940a665c",
   "metadata": {},
   "outputs": [],
   "source": [
    "lst_xtech_factor_name = [name+'.csv' for name in lst_xtech_factor_name]"
   ]
  },
  {
   "cell_type": "code",
   "execution_count": 5,
   "id": "caedd166-3534-4b47-a2a4-a1546c5b58dd",
   "metadata": {},
   "outputs": [],
   "source": [
    "tickers = ds.get_ticker_list(date='all')\n",
    "start_date = '20170101'\n",
    "end_date = '20201231'\n",
    "lst_trade_date = ds.get_trade_dates(start_date=start_date, end_date=end_date)\n",
    "\n",
    "\n",
    "path_xtech = '/home/zyding/xtech/'"
   ]
  },
  {
   "cell_type": "code",
   "execution_count": 6,
   "id": "1322585a-b113-418d-bf17-af5515385c55",
   "metadata": {},
   "outputs": [],
   "source": [
    "# 将原始csv转换为树状结构的二维表\n",
    "def get_stacked_factor(path, name):\n",
    "    df = pd.read_csv(path + name, dtype={0: str})\n",
    "    df.set_index(df.iloc[:, 0], inplace=True)\n",
    "    df.index.name = None\n",
    "    df = pd.DataFrame(index=tickers, columns=lst_trade_date, data=df)\n",
    "    return df.stack(dropna=False)"
   ]
  },
  {
   "cell_type": "code",
   "execution_count": 7,
   "id": "2d6173ea-a9f2-4ace-8632-738d5d06b907",
   "metadata": {},
   "outputs": [],
   "source": [
    "idx = get_stacked_factor(path_xtech, lst_xtech_factor_name[0]).index"
   ]
  },
  {
   "cell_type": "code",
   "execution_count": 28,
   "id": "1b3c2b3f-f3cd-4763-934d-cceffa3039dc",
   "metadata": {},
   "outputs": [],
   "source": [
    "df_factor_all = pd.DataFrame(index=idx)"
   ]
  },
  {
   "cell_type": "code",
   "execution_count": 29,
   "id": "e52d870a-aa4c-4f7c-b541-9ea9e0b20479",
   "metadata": {},
   "outputs": [
    {
     "name": "stderr",
     "output_type": "stream",
     "text": [
      "100%|██████████| 97/97 [01:27<00:00,  1.11it/s]\n"
     ]
    }
   ],
   "source": [
    "# 构建因子总表，为二级index（ticker，日期），一级column（因子）\n",
    "for name in tqdm(lst_xtech_factor_name):\n",
    "    df_factor_all[name[:-4]] = get_stacked_factor(path_xtech, name)"
   ]
  },
  {
   "cell_type": "code",
   "execution_count": 10,
   "id": "47535ba6-f530-4632-9f77-b06642dfd9cc",
   "metadata": {},
   "outputs": [],
   "source": [
    "df_factor_all.dropna(how='all', inplace=True)"
   ]
  },
  {
   "cell_type": "code",
   "execution_count": 11,
   "id": "d94736de-cf24-457b-a419-2e42b41930d1",
   "metadata": {},
   "outputs": [
    {
     "data": {
      "text/plain": [
       "<AxesSubplot:ylabel='Frequency'>"
      ]
     },
     "execution_count": 11,
     "metadata": {},
     "output_type": "execute_result"
    },
    {
     "data": {
      "image/png": "[encoded data removed]",
      "text/plain": [
       "<Figure size 432x288 with 1 Axes>"
      ]
     },
     "metadata": {
      "needs_background": "light"
     },
     "output_type": "display_data"
    }
   ],
   "source": [
    "(df_factor_all.count()/len(df_factor_all)).plot(kind='hist')  # 各因子非空值占比可视化"
   ]
  },
  {
   "cell_type": "code",
   "execution_count": 12,
   "id": "9ccb2116-3be5-4511-9105-cd46d9389b51",
   "metadata": {},
   "outputs": [
    {
     "data": {
      "text/plain": [
       "count   97.000\n",
       "mean     0.685\n",
       "std      0.279\n",
       "min      0.039\n",
       "25%      0.572\n",
       "50%      0.781\n",
       "75%      0.923\n",
       "max      0.972\n",
       "dtype: float64"
      ]
     },
     "execution_count": 12,
     "metadata": {},
     "output_type": "execute_result"
    }
   ],
   "source": [
    "(df_factor_all.count()/len(df_factor_all)).describe()  # 因子非空值占比描述性统计"
   ]
  },
  {
   "cell_type": "code",
   "execution_count": 18,
   "id": "3e2e2ffb-e470-4260-b74d-232f5dc85b58",
   "metadata": {},
   "outputs": [],
   "source": [
    "df_factor_all = df_factor_all.loc[:,\n",
    "                                  df_factor_all.count()/len(df_factor_all) > 0.4]"
   ]
  },
  {
   "cell_type": "code",
   "execution_count": 19,
   "id": "c2fa58a5-11b2-427b-9da0-a1d4e83a7ff7",
   "metadata": {},
   "outputs": [
    {
     "data": {
      "text/html": [
       "<div>\n",
       "<style scoped>\n",
       "    .dataframe tbody tr th:only-of-type {\n",
       "        vertical-align: middle;\n",
       "    }\n",
       "\n",
       "    .dataframe tbody tr th {\n",
       "        vertical-align: top;\n",
       "    }\n",
       "\n",
       "    .dataframe thead th {\n",
       "        text-align: right;\n",
       "    }\n",
       "</style>\n",
       "<table border=\"1\" class=\"dataframe\">\n",
       "  <thead>\n",
       "    <tr style=\"text-align: right;\">\n",
       "      <th></th>\n",
       "      <th></th>\n",
       "      <th>quant_18</th>\n",
       "      <th>quant_32</th>\n",
       "      <th>quant_4</th>\n",
       "      <th>any_cor_FACTORS_mom_cl</th>\n",
       "      <th>flow_FACTORS_main</th>\n",
       "      <th>flow_FACTORS_small</th>\n",
       "      <th>fund_FACTORS_TVSTD6</th>\n",
       "      <th>fund_FACTORS_num</th>\n",
       "      <th>fund_FACTORS_pct</th>\n",
       "      <th>guba_FACTORS_post</th>\n",
       "      <th>...</th>\n",
       "      <th>minute_FACTORS_kurtosis</th>\n",
       "      <th>minute_FACTORS_skewness</th>\n",
       "      <th>minute_FACTORS_weipan</th>\n",
       "      <th>py_cov_FACTORS_PV_Corr</th>\n",
       "      <th>HK_new_FACTORS_Weight</th>\n",
       "      <th>HK_new_FACTORS_hkVol_change_20_rate</th>\n",
       "      <th>HK_new_FACTORS_partyPct</th>\n",
       "      <th>HK_new_FACTORS_pct_change_mean_20</th>\n",
       "      <th>zhaopin_new_FACTORS_highEdu_recruit</th>\n",
       "      <th>zhaopin_new_FACTORS_highEdu_share</th>\n",
       "    </tr>\n",
       "  </thead>\n",
       "  <tbody>\n",
       "    <tr>\n",
       "      <th rowspan=\"5\" valign=\"top\">000001</th>\n",
       "      <th>20170103</th>\n",
       "      <td>nan</td>\n",
       "      <td>nan</td>\n",
       "      <td>nan</td>\n",
       "      <td>nan</td>\n",
       "      <td>nan</td>\n",
       "      <td>nan</td>\n",
       "      <td>61.420</td>\n",
       "      <td>nan</td>\n",
       "      <td>nan</td>\n",
       "      <td>37.000</td>\n",
       "      <td>...</td>\n",
       "      <td>14.734</td>\n",
       "      <td>3.457</td>\n",
       "      <td>0.091</td>\n",
       "      <td>nan</td>\n",
       "      <td>nan</td>\n",
       "      <td>nan</td>\n",
       "      <td>nan</td>\n",
       "      <td>nan</td>\n",
       "      <td>-0.199</td>\n",
       "      <td>1.585</td>\n",
       "    </tr>\n",
       "    <tr>\n",
       "      <th>20170104</th>\n",
       "      <td>nan</td>\n",
       "      <td>nan</td>\n",
       "      <td>nan</td>\n",
       "      <td>nan</td>\n",
       "      <td>nan</td>\n",
       "      <td>nan</td>\n",
       "      <td>72.466</td>\n",
       "      <td>nan</td>\n",
       "      <td>nan</td>\n",
       "      <td>44.000</td>\n",
       "      <td>...</td>\n",
       "      <td>12.954</td>\n",
       "      <td>3.039</td>\n",
       "      <td>0.042</td>\n",
       "      <td>nan</td>\n",
       "      <td>nan</td>\n",
       "      <td>nan</td>\n",
       "      <td>nan</td>\n",
       "      <td>nan</td>\n",
       "      <td>-0.113</td>\n",
       "      <td>2.059</td>\n",
       "    </tr>\n",
       "    <tr>\n",
       "      <th>20170105</th>\n",
       "      <td>nan</td>\n",
       "      <td>nan</td>\n",
       "      <td>nan</td>\n",
       "      <td>nan</td>\n",
       "      <td>nan</td>\n",
       "      <td>nan</td>\n",
       "      <td>61.221</td>\n",
       "      <td>nan</td>\n",
       "      <td>nan</td>\n",
       "      <td>31.000</td>\n",
       "      <td>...</td>\n",
       "      <td>16.661</td>\n",
       "      <td>3.458</td>\n",
       "      <td>0.038</td>\n",
       "      <td>nan</td>\n",
       "      <td>nan</td>\n",
       "      <td>nan</td>\n",
       "      <td>nan</td>\n",
       "      <td>nan</td>\n",
       "      <td>-0.132</td>\n",
       "      <td>2.232</td>\n",
       "    </tr>\n",
       "    <tr>\n",
       "      <th>20170106</th>\n",
       "      <td>nan</td>\n",
       "      <td>nan</td>\n",
       "      <td>nan</td>\n",
       "      <td>nan</td>\n",
       "      <td>nan</td>\n",
       "      <td>nan</td>\n",
       "      <td>59.377</td>\n",
       "      <td>nan</td>\n",
       "      <td>nan</td>\n",
       "      <td>49.000</td>\n",
       "      <td>...</td>\n",
       "      <td>17.534</td>\n",
       "      <td>3.709</td>\n",
       "      <td>0.044</td>\n",
       "      <td>nan</td>\n",
       "      <td>nan</td>\n",
       "      <td>nan</td>\n",
       "      <td>nan</td>\n",
       "      <td>nan</td>\n",
       "      <td>-0.143</td>\n",
       "      <td>2.265</td>\n",
       "    </tr>\n",
       "    <tr>\n",
       "      <th>20170109</th>\n",
       "      <td>nan</td>\n",
       "      <td>nan</td>\n",
       "      <td>nan</td>\n",
       "      <td>nan</td>\n",
       "      <td>nan</td>\n",
       "      <td>nan</td>\n",
       "      <td>57.332</td>\n",
       "      <td>nan</td>\n",
       "      <td>nan</td>\n",
       "      <td>35.000</td>\n",
       "      <td>...</td>\n",
       "      <td>11.708</td>\n",
       "      <td>3.030</td>\n",
       "      <td>0.039</td>\n",
       "      <td>nan</td>\n",
       "      <td>nan</td>\n",
       "      <td>nan</td>\n",
       "      <td>nan</td>\n",
       "      <td>nan</td>\n",
       "      <td>-0.151</td>\n",
       "      <td>2.258</td>\n",
       "    </tr>\n",
       "    <tr>\n",
       "      <th>...</th>\n",
       "      <th>...</th>\n",
       "      <td>...</td>\n",
       "      <td>...</td>\n",
       "      <td>...</td>\n",
       "      <td>...</td>\n",
       "      <td>...</td>\n",
       "      <td>...</td>\n",
       "      <td>...</td>\n",
       "      <td>...</td>\n",
       "      <td>...</td>\n",
       "      <td>...</td>\n",
       "      <td>...</td>\n",
       "      <td>...</td>\n",
       "      <td>...</td>\n",
       "      <td>...</td>\n",
       "      <td>...</td>\n",
       "      <td>...</td>\n",
       "      <td>...</td>\n",
       "      <td>...</td>\n",
       "      <td>...</td>\n",
       "      <td>...</td>\n",
       "      <td>...</td>\n",
       "    </tr>\n",
       "    <tr>\n",
       "      <th rowspan=\"5\" valign=\"top\">689009</th>\n",
       "      <th>20201225</th>\n",
       "      <td>0.231</td>\n",
       "      <td>0.041</td>\n",
       "      <td>0.003</td>\n",
       "      <td>nan</td>\n",
       "      <td>-0.077</td>\n",
       "      <td>-0.094</td>\n",
       "      <td>87.706</td>\n",
       "      <td>nan</td>\n",
       "      <td>nan</td>\n",
       "      <td>77.000</td>\n",
       "      <td>...</td>\n",
       "      <td>4.403</td>\n",
       "      <td>0.613</td>\n",
       "      <td>0.095</td>\n",
       "      <td>0.543</td>\n",
       "      <td>nan</td>\n",
       "      <td>nan</td>\n",
       "      <td>nan</td>\n",
       "      <td>nan</td>\n",
       "      <td>nan</td>\n",
       "      <td>nan</td>\n",
       "    </tr>\n",
       "    <tr>\n",
       "      <th>20201228</th>\n",
       "      <td>0.321</td>\n",
       "      <td>0.032</td>\n",
       "      <td>0.004</td>\n",
       "      <td>nan</td>\n",
       "      <td>-0.084</td>\n",
       "      <td>-0.102</td>\n",
       "      <td>89.981</td>\n",
       "      <td>nan</td>\n",
       "      <td>nan</td>\n",
       "      <td>58.000</td>\n",
       "      <td>...</td>\n",
       "      <td>4.429</td>\n",
       "      <td>0.620</td>\n",
       "      <td>0.129</td>\n",
       "      <td>0.275</td>\n",
       "      <td>nan</td>\n",
       "      <td>nan</td>\n",
       "      <td>nan</td>\n",
       "      <td>nan</td>\n",
       "      <td>nan</td>\n",
       "      <td>nan</td>\n",
       "    </tr>\n",
       "    <tr>\n",
       "      <th>20201229</th>\n",
       "      <td>0.032</td>\n",
       "      <td>0.003</td>\n",
       "      <td>0.004</td>\n",
       "      <td>nan</td>\n",
       "      <td>nan</td>\n",
       "      <td>nan</td>\n",
       "      <td>78.991</td>\n",
       "      <td>nan</td>\n",
       "      <td>nan</td>\n",
       "      <td>nan</td>\n",
       "      <td>...</td>\n",
       "      <td>4.459</td>\n",
       "      <td>0.623</td>\n",
       "      <td>0.089</td>\n",
       "      <td>0.227</td>\n",
       "      <td>nan</td>\n",
       "      <td>nan</td>\n",
       "      <td>nan</td>\n",
       "      <td>nan</td>\n",
       "      <td>nan</td>\n",
       "      <td>nan</td>\n",
       "    </tr>\n",
       "    <tr>\n",
       "      <th>20201230</th>\n",
       "      <td>0.065</td>\n",
       "      <td>-0.003</td>\n",
       "      <td>0.004</td>\n",
       "      <td>nan</td>\n",
       "      <td>-0.096</td>\n",
       "      <td>-0.102</td>\n",
       "      <td>53.235</td>\n",
       "      <td>nan</td>\n",
       "      <td>nan</td>\n",
       "      <td>51.000</td>\n",
       "      <td>...</td>\n",
       "      <td>4.382</td>\n",
       "      <td>0.615</td>\n",
       "      <td>0.038</td>\n",
       "      <td>0.128</td>\n",
       "      <td>nan</td>\n",
       "      <td>nan</td>\n",
       "      <td>nan</td>\n",
       "      <td>nan</td>\n",
       "      <td>nan</td>\n",
       "      <td>nan</td>\n",
       "    </tr>\n",
       "    <tr>\n",
       "      <th>20201231</th>\n",
       "      <td>-0.191</td>\n",
       "      <td>-0.020</td>\n",
       "      <td>0.003</td>\n",
       "      <td>nan</td>\n",
       "      <td>-0.094</td>\n",
       "      <td>-0.095</td>\n",
       "      <td>50.429</td>\n",
       "      <td>nan</td>\n",
       "      <td>nan</td>\n",
       "      <td>51.000</td>\n",
       "      <td>...</td>\n",
       "      <td>4.267</td>\n",
       "      <td>0.599</td>\n",
       "      <td>0.072</td>\n",
       "      <td>0.074</td>\n",
       "      <td>nan</td>\n",
       "      <td>nan</td>\n",
       "      <td>nan</td>\n",
       "      <td>nan</td>\n",
       "      <td>nan</td>\n",
       "      <td>nan</td>\n",
       "    </tr>\n",
       "  </tbody>\n",
       "</table>\n",
       "<p>3591509 rows × 86 columns</p>\n",
       "</div>"
      ],
      "text/plain": [
       "                 quant_18  quant_32  quant_4  any_cor_FACTORS_mom_cl  \\\n",
       "000001 20170103       nan       nan      nan                     nan   \n",
       "       20170104       nan       nan      nan                     nan   \n",
       "       20170105       nan       nan      nan                     nan   \n",
       "       20170106       nan       nan      nan                     nan   \n",
       "       20170109       nan       nan      nan                     nan   \n",
       "...                   ...       ...      ...                     ...   \n",
       "689009 20201225     0.231     0.041    0.003                     nan   \n",
       "       20201228     0.321     0.032    0.004                     nan   \n",
       "       20201229     0.032     0.003    0.004                     nan   \n",
       "       20201230     0.065    -0.003    0.004                     nan   \n",
       "       20201231    -0.191    -0.020    0.003                     nan   \n",
       "\n",
       "                 flow_FACTORS_main  flow_FACTORS_small  fund_FACTORS_TVSTD6  \\\n",
       "000001 20170103                nan                 nan               61.420   \n",
       "       20170104                nan                 nan               72.466   \n",
       "       20170105                nan                 nan               61.221   \n",
       "       20170106                nan                 nan               59.377   \n",
       "       20170109                nan                 nan               57.332   \n",
       "...                            ...                 ...                  ...   \n",
       "689009 20201225             -0.077              -0.094               87.706   \n",
       "       20201228             -0.084              -0.102               89.981   \n",
       "       20201229                nan                 nan               78.991   \n",
       "       20201230             -0.096              -0.102               53.235   \n",
       "       20201231             -0.094              -0.095               50.429   \n",
       "\n",
       "                 fund_FACTORS_num  fund_FACTORS_pct  guba_FACTORS_post  ...  \\\n",
       "000001 20170103               nan               nan             37.000  ...   \n",
       "       20170104               nan               nan             44.000  ...   \n",
       "       20170105               nan               nan             31.000  ...   \n",
       "       20170106               nan               nan             49.000  ...   \n",
       "       20170109               nan               nan             35.000  ...   \n",
       "...                           ...               ...                ...  ...   \n",
       "689009 20201225               nan               nan             77.000  ...   \n",
       "       20201228               nan               nan             58.000  ...   \n",
       "       20201229               nan               nan                nan  ...   \n",
       "       20201230               nan               nan             51.000  ...   \n",
       "       20201231               nan               nan             51.000  ...   \n",
       "\n",
       "                 minute_FACTORS_kurtosis  minute_FACTORS_skewness  \\\n",
       "000001 20170103                   14.734                    3.457   \n",
       "       20170104                   12.954                    3.039   \n",
       "       20170105                   16.661                    3.458   \n",
       "       20170106                   17.534                    3.709   \n",
       "       20170109                   11.708                    3.030   \n",
       "...                                  ...                      ...   \n",
       "689009 20201225                    4.403                    0.613   \n",
       "       20201228                    4.429                    0.620   \n",
       "       20201229                    4.459                    0.623   \n",
       "       20201230                    4.382                    0.615   \n",
       "       20201231                    4.267                    0.599   \n",
       "\n",
       "                 minute_FACTORS_weipan  py_cov_FACTORS_PV_Corr  \\\n",
       "000001 20170103                  0.091                     nan   \n",
       "       20170104                  0.042                     nan   \n",
       "       20170105                  0.038                     nan   \n",
       "       20170106                  0.044                     nan   \n",
       "       20170109                  0.039                     nan   \n",
       "...                                ...                     ...   \n",
       "689009 20201225                  0.095                   0.543   \n",
       "       20201228                  0.129                   0.275   \n",
       "       20201229                  0.089                   0.227   \n",
       "       20201230                  0.038                   0.128   \n",
       "       20201231                  0.072                   0.074   \n",
       "\n",
       "                 HK_new_FACTORS_Weight  HK_new_FACTORS_hkVol_change_20_rate  \\\n",
       "000001 20170103                    nan                                  nan   \n",
       "       20170104                    nan                                  nan   \n",
       "       20170105                    nan                                  nan   \n",
       "       20170106                    nan                                  nan   \n",
       "       20170109                    nan                                  nan   \n",
       "...                                ...                                  ...   \n",
       "689009 20201225                    nan                                  nan   \n",
       "       20201228                    nan                                  nan   \n",
       "       20201229                    nan                                  nan   \n",
       "       20201230                    nan                                  nan   \n",
       "       20201231                    nan                                  nan   \n",
       "\n",
       "                 HK_new_FACTORS_partyPct  HK_new_FACTORS_pct_change_mean_20  \\\n",
       "000001 20170103                      nan                                nan   \n",
       "       20170104                      nan                                nan   \n",
       "       20170105                      nan                                nan   \n",
       "       20170106                      nan                                nan   \n",
       "       20170109                      nan                                nan   \n",
       "...                                  ...                                ...   \n",
       "689009 20201225                      nan                                nan   \n",
       "       20201228                      nan                                nan   \n",
       "       20201229                      nan                                nan   \n",
       "       20201230                      nan                                nan   \n",
       "       20201231                      nan                                nan   \n",
       "\n",
       "                 zhaopin_new_FACTORS_highEdu_recruit  \\\n",
       "000001 20170103                               -0.199   \n",
       "       20170104                               -0.113   \n",
       "       20170105                               -0.132   \n",
       "       20170106                               -0.143   \n",
       "       20170109                               -0.151   \n",
       "...                                              ...   \n",
       "689009 20201225                                  nan   \n",
       "       20201228                                  nan   \n",
       "       20201229                                  nan   \n",
       "       20201230                                  nan   \n",
       "       20201231                                  nan   \n",
       "\n",
       "                 zhaopin_new_FACTORS_highEdu_share  \n",
       "000001 20170103                              1.585  \n",
       "       20170104                              2.059  \n",
       "       20170105                              2.232  \n",
       "       20170106                              2.265  \n",
       "       20170109                              2.258  \n",
       "...                                            ...  \n",
       "689009 20201225                                nan  \n",
       "       20201228                                nan  \n",
       "       20201229                                nan  \n",
       "       20201230                                nan  \n",
       "       20201231                                nan  \n",
       "\n",
       "[3591509 rows x 86 columns]"
      ]
     },
     "execution_count": 19,
     "metadata": {},
     "output_type": "execute_result"
    }
   ],
   "source": [
    "df_factor_all"
   ]
  },
  {
   "cell_type": "code",
   "execution_count": 20,
   "id": "eb5839e1-da4c-47a9-bd2c-c70abe748895",
   "metadata": {},
   "outputs": [],
   "source": [
    "# 因子值变换为每日全股票池排序值（百分比）\n",
    "def transform_rank_percent(df):\n",
    "    temp = df.reset_index()\n",
    "    temp = temp.groupby(temp['level_1']).rank(pct=True)\n",
    "    return pd.DataFrame(index=df.index, columns=df.columns, data=temp.values)"
   ]
  },
  {
   "cell_type": "code",
   "execution_count": 21,
   "id": "33d72f67-7b6e-4c40-b75f-7b9bcd5b6b18",
   "metadata": {},
   "outputs": [
    {
     "name": "stdout",
     "output_type": "stream",
     "text": [
      "CPU times: user 52.1 s, sys: 1.28 s, total: 53.4 s\n",
      "Wall time: 53.5 s\n"
     ]
    }
   ],
   "source": [
    "%time df_factor_rank_percent = transform_rank_percent(df_factor_all)"
   ]
  },
  {
   "cell_type": "code",
   "execution_count": 179,
   "id": "a74c8a8f-0d70-4d9e-9f0c-c8340e6c3b62",
   "metadata": {},
   "outputs": [],
   "source": [
    "df_combo_equal = df_factor_rank_percent.mean(axis=1).unstack()  # 等权合成"
   ]
  },
  {
   "cell_type": "code",
   "execution_count": 180,
   "id": "854db2cb-3f98-43a9-8453-67d6815b3baf",
   "metadata": {},
   "outputs": [
    {
     "data": {
      "text/html": [
       "<div>\n",
       "<style scoped>\n",
       "    .dataframe tbody tr th:only-of-type {\n",
       "        vertical-align: middle;\n",
       "    }\n",
       "\n",
       "    .dataframe tbody tr th {\n",
       "        vertical-align: top;\n",
       "    }\n",
       "\n",
       "    .dataframe thead th {\n",
       "        text-align: right;\n",
       "    }\n",
       "</style>\n",
       "<table border=\"1\" class=\"dataframe\">\n",
       "  <thead>\n",
       "    <tr style=\"text-align: right;\">\n",
       "      <th></th>\n",
       "      <th>20170103</th>\n",
       "      <th>20170104</th>\n",
       "      <th>20170105</th>\n",
       "      <th>20170106</th>\n",
       "      <th>20170109</th>\n",
       "      <th>20170110</th>\n",
       "      <th>20170111</th>\n",
       "      <th>20170112</th>\n",
       "      <th>20170113</th>\n",
       "      <th>20170116</th>\n",
       "      <th>...</th>\n",
       "      <th>20201218</th>\n",
       "      <th>20201221</th>\n",
       "      <th>20201222</th>\n",
       "      <th>20201223</th>\n",
       "      <th>20201224</th>\n",
       "      <th>20201225</th>\n",
       "      <th>20201228</th>\n",
       "      <th>20201229</th>\n",
       "      <th>20201230</th>\n",
       "      <th>20201231</th>\n",
       "    </tr>\n",
       "  </thead>\n",
       "  <tbody>\n",
       "    <tr>\n",
       "      <th>000001</th>\n",
       "      <td>0.568</td>\n",
       "      <td>0.552</td>\n",
       "      <td>0.551</td>\n",
       "      <td>0.550</td>\n",
       "      <td>0.519</td>\n",
       "      <td>0.522</td>\n",
       "      <td>0.529</td>\n",
       "      <td>0.534</td>\n",
       "      <td>0.539</td>\n",
       "      <td>0.546</td>\n",
       "      <td>...</td>\n",
       "      <td>0.542</td>\n",
       "      <td>0.556</td>\n",
       "      <td>0.556</td>\n",
       "      <td>0.551</td>\n",
       "      <td>0.563</td>\n",
       "      <td>0.530</td>\n",
       "      <td>0.547</td>\n",
       "      <td>0.542</td>\n",
       "      <td>0.577</td>\n",
       "      <td>0.608</td>\n",
       "    </tr>\n",
       "    <tr>\n",
       "      <th>000002</th>\n",
       "      <td>0.628</td>\n",
       "      <td>0.626</td>\n",
       "      <td>0.638</td>\n",
       "      <td>0.584</td>\n",
       "      <td>0.576</td>\n",
       "      <td>0.555</td>\n",
       "      <td>0.569</td>\n",
       "      <td>0.500</td>\n",
       "      <td>0.601</td>\n",
       "      <td>0.606</td>\n",
       "      <td>...</td>\n",
       "      <td>0.537</td>\n",
       "      <td>0.532</td>\n",
       "      <td>0.546</td>\n",
       "      <td>0.541</td>\n",
       "      <td>0.543</td>\n",
       "      <td>0.541</td>\n",
       "      <td>0.526</td>\n",
       "      <td>0.515</td>\n",
       "      <td>0.526</td>\n",
       "      <td>0.554</td>\n",
       "    </tr>\n",
       "    <tr>\n",
       "      <th>000003</th>\n",
       "      <td>nan</td>\n",
       "      <td>nan</td>\n",
       "      <td>nan</td>\n",
       "      <td>nan</td>\n",
       "      <td>nan</td>\n",
       "      <td>nan</td>\n",
       "      <td>nan</td>\n",
       "      <td>nan</td>\n",
       "      <td>nan</td>\n",
       "      <td>nan</td>\n",
       "      <td>...</td>\n",
       "      <td>0.094</td>\n",
       "      <td>0.092</td>\n",
       "      <td>0.095</td>\n",
       "      <td>0.095</td>\n",
       "      <td>0.094</td>\n",
       "      <td>0.094</td>\n",
       "      <td>0.092</td>\n",
       "      <td>0.095</td>\n",
       "      <td>0.095</td>\n",
       "      <td>0.093</td>\n",
       "    </tr>\n",
       "    <tr>\n",
       "      <th>000004</th>\n",
       "      <td>0.498</td>\n",
       "      <td>0.505</td>\n",
       "      <td>0.475</td>\n",
       "      <td>0.494</td>\n",
       "      <td>0.521</td>\n",
       "      <td>0.554</td>\n",
       "      <td>0.534</td>\n",
       "      <td>0.504</td>\n",
       "      <td>0.511</td>\n",
       "      <td>0.459</td>\n",
       "      <td>...</td>\n",
       "      <td>0.507</td>\n",
       "      <td>0.471</td>\n",
       "      <td>0.483</td>\n",
       "      <td>0.468</td>\n",
       "      <td>0.514</td>\n",
       "      <td>0.518</td>\n",
       "      <td>0.460</td>\n",
       "      <td>0.475</td>\n",
       "      <td>0.451</td>\n",
       "      <td>0.445</td>\n",
       "    </tr>\n",
       "    <tr>\n",
       "      <th>000005</th>\n",
       "      <td>0.495</td>\n",
       "      <td>0.550</td>\n",
       "      <td>0.526</td>\n",
       "      <td>0.544</td>\n",
       "      <td>0.509</td>\n",
       "      <td>0.486</td>\n",
       "      <td>0.490</td>\n",
       "      <td>0.500</td>\n",
       "      <td>0.502</td>\n",
       "      <td>0.485</td>\n",
       "      <td>...</td>\n",
       "      <td>0.414</td>\n",
       "      <td>0.422</td>\n",
       "      <td>0.405</td>\n",
       "      <td>0.415</td>\n",
       "      <td>0.393</td>\n",
       "      <td>0.397</td>\n",
       "      <td>0.420</td>\n",
       "      <td>0.413</td>\n",
       "      <td>0.395</td>\n",
       "      <td>0.399</td>\n",
       "    </tr>\n",
       "    <tr>\n",
       "      <th>...</th>\n",
       "      <td>...</td>\n",
       "      <td>...</td>\n",
       "      <td>...</td>\n",
       "      <td>...</td>\n",
       "      <td>...</td>\n",
       "      <td>...</td>\n",
       "      <td>...</td>\n",
       "      <td>...</td>\n",
       "      <td>...</td>\n",
       "      <td>...</td>\n",
       "      <td>...</td>\n",
       "      <td>...</td>\n",
       "      <td>...</td>\n",
       "      <td>...</td>\n",
       "      <td>...</td>\n",
       "      <td>...</td>\n",
       "      <td>...</td>\n",
       "      <td>...</td>\n",
       "      <td>...</td>\n",
       "      <td>...</td>\n",
       "      <td>...</td>\n",
       "    </tr>\n",
       "    <tr>\n",
       "      <th>688699</th>\n",
       "      <td>nan</td>\n",
       "      <td>nan</td>\n",
       "      <td>nan</td>\n",
       "      <td>nan</td>\n",
       "      <td>nan</td>\n",
       "      <td>nan</td>\n",
       "      <td>nan</td>\n",
       "      <td>nan</td>\n",
       "      <td>nan</td>\n",
       "      <td>nan</td>\n",
       "      <td>...</td>\n",
       "      <td>0.802</td>\n",
       "      <td>0.813</td>\n",
       "      <td>0.783</td>\n",
       "      <td>0.721</td>\n",
       "      <td>0.704</td>\n",
       "      <td>0.674</td>\n",
       "      <td>0.687</td>\n",
       "      <td>0.798</td>\n",
       "      <td>0.638</td>\n",
       "      <td>0.583</td>\n",
       "    </tr>\n",
       "    <tr>\n",
       "      <th>688777</th>\n",
       "      <td>nan</td>\n",
       "      <td>nan</td>\n",
       "      <td>nan</td>\n",
       "      <td>nan</td>\n",
       "      <td>nan</td>\n",
       "      <td>nan</td>\n",
       "      <td>nan</td>\n",
       "      <td>nan</td>\n",
       "      <td>nan</td>\n",
       "      <td>nan</td>\n",
       "      <td>...</td>\n",
       "      <td>0.687</td>\n",
       "      <td>0.679</td>\n",
       "      <td>0.646</td>\n",
       "      <td>0.599</td>\n",
       "      <td>0.623</td>\n",
       "      <td>0.615</td>\n",
       "      <td>0.595</td>\n",
       "      <td>0.629</td>\n",
       "      <td>0.599</td>\n",
       "      <td>0.565</td>\n",
       "    </tr>\n",
       "    <tr>\n",
       "      <th>688788</th>\n",
       "      <td>nan</td>\n",
       "      <td>nan</td>\n",
       "      <td>nan</td>\n",
       "      <td>nan</td>\n",
       "      <td>nan</td>\n",
       "      <td>nan</td>\n",
       "      <td>nan</td>\n",
       "      <td>nan</td>\n",
       "      <td>nan</td>\n",
       "      <td>nan</td>\n",
       "      <td>...</td>\n",
       "      <td>0.459</td>\n",
       "      <td>0.457</td>\n",
       "      <td>0.485</td>\n",
       "      <td>0.466</td>\n",
       "      <td>0.476</td>\n",
       "      <td>0.475</td>\n",
       "      <td>0.474</td>\n",
       "      <td>0.532</td>\n",
       "      <td>0.476</td>\n",
       "      <td>0.443</td>\n",
       "    </tr>\n",
       "    <tr>\n",
       "      <th>688981</th>\n",
       "      <td>nan</td>\n",
       "      <td>nan</td>\n",
       "      <td>nan</td>\n",
       "      <td>nan</td>\n",
       "      <td>nan</td>\n",
       "      <td>nan</td>\n",
       "      <td>nan</td>\n",
       "      <td>nan</td>\n",
       "      <td>nan</td>\n",
       "      <td>nan</td>\n",
       "      <td>...</td>\n",
       "      <td>0.622</td>\n",
       "      <td>0.628</td>\n",
       "      <td>0.633</td>\n",
       "      <td>0.628</td>\n",
       "      <td>0.634</td>\n",
       "      <td>0.637</td>\n",
       "      <td>0.635</td>\n",
       "      <td>0.625</td>\n",
       "      <td>0.676</td>\n",
       "      <td>0.689</td>\n",
       "    </tr>\n",
       "    <tr>\n",
       "      <th>689009</th>\n",
       "      <td>nan</td>\n",
       "      <td>nan</td>\n",
       "      <td>nan</td>\n",
       "      <td>nan</td>\n",
       "      <td>nan</td>\n",
       "      <td>nan</td>\n",
       "      <td>nan</td>\n",
       "      <td>nan</td>\n",
       "      <td>nan</td>\n",
       "      <td>nan</td>\n",
       "      <td>...</td>\n",
       "      <td>0.608</td>\n",
       "      <td>0.603</td>\n",
       "      <td>0.654</td>\n",
       "      <td>0.671</td>\n",
       "      <td>0.645</td>\n",
       "      <td>0.655</td>\n",
       "      <td>0.661</td>\n",
       "      <td>0.621</td>\n",
       "      <td>0.583</td>\n",
       "      <td>0.588</td>\n",
       "    </tr>\n",
       "  </tbody>\n",
       "</table>\n",
       "<p>4271 rows × 974 columns</p>\n",
       "</div>"
      ],
      "text/plain": [
       "        20170103  20170104  20170105  20170106  20170109  20170110  20170111  \\\n",
       "000001     0.568     0.552     0.551     0.550     0.519     0.522     0.529   \n",
       "000002     0.628     0.626     0.638     0.584     0.576     0.555     0.569   \n",
       "000003       nan       nan       nan       nan       nan       nan       nan   \n",
       "000004     0.498     0.505     0.475     0.494     0.521     0.554     0.534   \n",
       "000005     0.495     0.550     0.526     0.544     0.509     0.486     0.490   \n",
       "...          ...       ...       ...       ...       ...       ...       ...   \n",
       "688699       nan       nan       nan       nan       nan       nan       nan   \n",
       "688777       nan       nan       nan       nan       nan       nan       nan   \n",
       "688788       nan       nan       nan       nan       nan       nan       nan   \n",
       "688981       nan       nan       nan       nan       nan       nan       nan   \n",
       "689009       nan       nan       nan       nan       nan       nan       nan   \n",
       "\n",
       "        20170112  20170113  20170116  ...  20201218  20201221  20201222  \\\n",
       "000001     0.534     0.539     0.546  ...     0.542     0.556     0.556   \n",
       "000002     0.500     0.601     0.606  ...     0.537     0.532     0.546   \n",
       "000003       nan       nan       nan  ...     0.094     0.092     0.095   \n",
       "000004     0.504     0.511     0.459  ...     0.507     0.471     0.483   \n",
       "000005     0.500     0.502     0.485  ...     0.414     0.422     0.405   \n",
       "...          ...       ...       ...  ...       ...       ...       ...   \n",
       "688699       nan       nan       nan  ...     0.802     0.813     0.783   \n",
       "688777       nan       nan       nan  ...     0.687     0.679     0.646   \n",
       "688788       nan       nan       nan  ...     0.459     0.457     0.485   \n",
       "688981       nan       nan       nan  ...     0.622     0.628     0.633   \n",
       "689009       nan       nan       nan  ...     0.608     0.603     0.654   \n",
       "\n",
       "        20201223  20201224  20201225  20201228  20201229  20201230  20201231  \n",
       "000001     0.551     0.563     0.530     0.547     0.542     0.577     0.608  \n",
       "000002     0.541     0.543     0.541     0.526     0.515     0.526     0.554  \n",
       "000003     0.095     0.094     0.094     0.092     0.095     0.095     0.093  \n",
       "000004     0.468     0.514     0.518     0.460     0.475     0.451     0.445  \n",
       "000005     0.415     0.393     0.397     0.420     0.413     0.395     0.399  \n",
       "...          ...       ...       ...       ...       ...       ...       ...  \n",
       "688699     0.721     0.704     0.674     0.687     0.798     0.638     0.583  \n",
       "688777     0.599     0.623     0.615     0.595     0.629     0.599     0.565  \n",
       "688788     0.466     0.476     0.475     0.474     0.532     0.476     0.443  \n",
       "688981     0.628     0.634     0.637     0.635     0.625     0.676     0.689  \n",
       "689009     0.671     0.645     0.655     0.661     0.621     0.583     0.588  \n",
       "\n",
       "[4271 rows x 974 columns]"
      ]
     },
     "execution_count": 180,
     "metadata": {},
     "output_type": "execute_result"
    }
   ],
   "source": [
    "df_combo_equal"
   ]
  },
  {
   "cell_type": "code",
   "execution_count": 177,
   "id": "342e2ae1-7e1b-45ee-89b3-082763e75240",
   "metadata": {},
   "outputs": [],
   "source": [
    "def save_factor(name,\n",
    "                df_factor,\n",
    "                path='/home/zyding/factor_zyding/eod_xtech',\n",
    "                feature_type='eod'):\n",
    "    ds.save_eod_feature(data={name: df_factor},\n",
    "                        where=path,\n",
    "                        feature_type=feature_type,\n",
    "                        encrypt=False)"
   ]
  },
  {
   "cell_type": "code",
   "execution_count": 181,
   "id": "3a3b2c70-5a55-4491-ba51-6219b7741929",
   "metadata": {},
   "outputs": [],
   "source": [
    "save_factor('eod_combo_xtech_equal', df_combo_equal)"
   ]
  },
  {
   "cell_type": "markdown",
   "id": "ad38cea1-bdd0-449f-a33a-3e5c89772559",
   "metadata": {},
   "source": [
    "**考虑因子方向（正/负）**"
   ]
  },
  {
   "cell_type": "code",
   "execution_count": 28,
   "id": "025fd2b0-5577-4ed2-8929-22918ba9f749",
   "metadata": {},
   "outputs": [],
   "source": [
    "df_factor_all = pd.DataFrame(index=idx)"
   ]
  },
  {
   "cell_type": "code",
   "execution_count": 29,
   "id": "6bf27a84-d436-4146-8f60-2708e620fa61",
   "metadata": {},
   "outputs": [
    {
     "name": "stderr",
     "output_type": "stream",
     "text": [
      "100%|██████████| 97/97 [01:27<00:00,  1.11it/s]\n"
     ]
    }
   ],
   "source": [
    "# 构建因子总表，为二级index（ticker，日期），一级column（因子）\n",
    "for name in tqdm(lst_xtech_factor_name):\n",
    "    df_factor_all[name[:-4]] = get_stacked_factor(path_xtech, name)"
   ]
  },
  {
   "cell_type": "code",
   "execution_count": 45,
   "id": "6c68ca9e-628e-494a-ab42-8e963d36c2bb",
   "metadata": {},
   "outputs": [],
   "source": [
    "eod_data = ds.get_eod_history(fields=['OpenPrice', 'ClosePrice'],\n",
    "                              tickers=tickers,\n",
    "                              start_date='20170101',\n",
    "                              end_date='20201231',\n",
    "                              day_type='trade',\n",
    "                              price_mode='former')"
   ]
  },
  {
   "cell_type": "code",
   "execution_count": 54,
   "id": "304de092-0794-4c2a-a9c9-55043c6a718f",
   "metadata": {},
   "outputs": [],
   "source": [
    "df_ret_eod = eod_data['ClosePrice'].apply(lambda x: x/x.shift()-1, axis=1)\n",
    "df_ret_eod = df_ret_eod.shift(-1, axis=1).stack(dropna=False)"
   ]
  },
  {
   "cell_type": "code",
   "execution_count": 62,
   "id": "7af29c5f-36bd-4662-b6f1-f5a670f8f14d",
   "metadata": {},
   "outputs": [],
   "source": [
    "df_factor_all['ret'] = df_ret_eod"
   ]
  },
  {
   "cell_type": "code",
   "execution_count": 69,
   "id": "07ef5e4e-7765-44c4-bc20-65ed9b7a2e9f",
   "metadata": {},
   "outputs": [],
   "source": [
    "df_factor_all_reset = df_factor_all.reset_index()"
   ]
  },
  {
   "cell_type": "code",
   "execution_count": 81,
   "id": "7920892e-b290-4c08-8131-356dd1dd01e1",
   "metadata": {},
   "outputs": [],
   "source": [
    "grouped_factor_all = df_factor_all.reset_index().groupby('level_1')"
   ]
  },
  {
   "cell_type": "code",
   "execution_count": 110,
   "id": "826cc809-8f2d-4d7c-991f-2412b8d47bfa",
   "metadata": {},
   "outputs": [],
   "source": [
    "def calc_ic(df, method):\n",
    "    return df.apply(lambda x: x.corr(df.iloc[:, -1], method))"
   ]
  },
  {
   "cell_type": "code",
   "execution_count": 136,
   "id": "77d97f4a-9a39-42d2-8d90-242a4804ebc4",
   "metadata": {},
   "outputs": [
    {
     "name": "stderr",
     "output_type": "stream",
     "text": [
      "  1%|          | 8/974 [00:05<21:26,  1.33s/it]/shared/anaconda3/lib/python3.8/site-packages/numpy/lib/function_base.py:2551: RuntimeWarning: Degrees of freedom <= 0 for slice\n",
      "  c = cov(x, y, rowvar)\n",
      "100%|██████████| 974/974 [00:30<00:00, 32.20it/s]\n",
      "  0%|          | 1/974 [00:01<31:52,  1.97s/it]/shared/anaconda3/lib/python3.8/site-packages/scipy/stats/stats.py:4196: SpearmanRConstantInputWarning: An input array is constant; the correlation coefficent is not defined.\n",
      "  warnings.warn(SpearmanRConstantInputWarning())\n",
      "100%|██████████| 974/974 [01:36<00:00, 10.13it/s]\n"
     ]
    }
   ],
   "source": [
    "tqdm.pandas()\n",
    "df_factor_ic = df_factor_all_reset.iloc[:, 1:].groupby(\n",
    "    'level_1').progress_apply(calc_ic, method='pearson')\n",
    "df_factor_rankic = df_factor_all_reset.iloc[:, 1:].groupby(\n",
    "    'level_1').progress_apply(calc_ic, method='spearman')"
   ]
  },
  {
   "cell_type": "code",
   "execution_count": 172,
   "id": "3a9c5a33-4deb-427b-9818-0ae287623af7",
   "metadata": {},
   "outputs": [
    {
     "data": {
      "text/plain": [
       "<matplotlib.legend.Legend at 0x7fa76ca36940>"
      ]
     },
     "execution_count": 172,
     "metadata": {},
     "output_type": "execute_result"
    },
    {
     "data": {
      "image/png": "[encoded data removed]",
      "text/plain": [
       "<Figure size 1440x360 with 1 Axes>"
      ]
     },
     "metadata": {
      "needs_background": "light"
     },
     "output_type": "display_data"
    }
   ],
   "source": [
    "plt.figure(figsize=(20, 5))\n",
    "plt.bar(np.arange(97), df_factor_rankic.iloc[:, 1:-1].mean(), label='RankIC')\n",
    "plt.bar(np.arange(97), df_factor_ic.iloc[:, :-1].mean(), label='IC')\n",
    "plt.legend()"
   ]
  },
  {
   "cell_type": "code",
   "execution_count": 206,
   "id": "2f875a82-93c3-411c-be3d-b8d9a3169fe6",
   "metadata": {},
   "outputs": [],
   "source": [
    "df_factor_ic_mean = df_factor_ic.mean()[:-1]\n",
    "df_factor_rankic_mean = df_factor_rankic.mean()[1:-1]"
   ]
  },
  {
   "cell_type": "code",
   "execution_count": 210,
   "id": "3ea2baca-1609-4a0d-9285-0ab80732c6d4",
   "metadata": {},
   "outputs": [],
   "source": [
    "df_factor_all = df_factor_all.iloc[:, :-1]"
   ]
  },
  {
   "cell_type": "markdown",
   "id": "a95ec93a-0ddb-4b09-ba8b-d3d3ff429aa3",
   "metadata": {},
   "source": [
    "**IC等权（排序前）**"
   ]
  },
  {
   "cell_type": "code",
   "execution_count": 211,
   "id": "a0e36cf6-e5c0-4df3-9701-71bcb355d833",
   "metadata": {},
   "outputs": [
    {
     "name": "stdout",
     "output_type": "stream",
     "text": [
      "CPU times: user 1min 2s, sys: 2.83 s, total: 1min 5s\n",
      "Wall time: 1min 6s\n"
     ]
    }
   ],
   "source": [
    "%%time\n",
    "df_factor_ic_equal_rank_percent = transform_rank_percent(\n",
    "    df_factor_all*np.where(df_factor_ic_mean >= 0, 1, -1))\n",
    "\n",
    "df_combo_ic_equal_before = df_factor_ic_equal_rank_percent.mean(\n",
    "    axis=1).unstack()\n",
    "\n",
    "save_factor('eod_combo_xtech_ic_equal_before', df_combo_ic_equal_before)"
   ]
  },
  {
   "cell_type": "markdown",
   "id": "cbcddb2e-ecf7-44ba-a8a2-5a6b7c35becc",
   "metadata": {},
   "source": [
    "**IC等权（排序后）**"
   ]
  },
  {
   "cell_type": "code",
   "execution_count": 212,
   "id": "a94822bc-83ca-41c5-8b9e-bc2a28981c8a",
   "metadata": {},
   "outputs": [],
   "source": [
    "df_factor_rank_pct = transform_rank_percent(df_factor_all)\n",
    "\n",
    "df_combo_ic_equal_after = (\n",
    "    df_factor_rank_pct * np.where(df_factor_ic_mean >= 0, 1, -1)).mean(axis=1).unstack()\n",
    "\n",
    "save_factor('eod_combo_xtech_ic_equal_after', df_combo_ic_equal_after)"
   ]
  },
  {
   "cell_type": "markdown",
   "id": "de1fa965-e7f7-4a69-9989-339f9705bcbd",
   "metadata": {},
   "source": [
    "**IC加权（排序前）**"
   ]
  },
  {
   "cell_type": "code",
   "execution_count": 213,
   "id": "e5783762-857f-4ead-a6c9-3364c594d578",
   "metadata": {},
   "outputs": [],
   "source": [
    "df_factor_ic_weighted_rank_percent = transform_rank_percent(df_factor_all *\n",
    "                                                            df_factor_ic_mean)\n",
    "df_combo_ic_weighted_before = df_factor_ic_weighted_rank_percent.mean(\n",
    "    axis=1).unstack()\n",
    "save_factor('eod_combo_xtech_ic_weighted_before', df_combo_ic_weighted_before)"
   ]
  },
  {
   "cell_type": "markdown",
   "id": "f8a65d9f-4209-44c1-bb83-e62eea14dceb",
   "metadata": {},
   "source": [
    "**IC加权（排序后）**"
   ]
  },
  {
   "cell_type": "code",
   "execution_count": 214,
   "id": "e02706ff-06b0-4fde-9f4c-ea84881f5ba8",
   "metadata": {},
   "outputs": [],
   "source": [
    "df_combo_ic_weighted_after = (\n",
    "    df_factor_rank_pct * df_factor_ic_mean).mean(axis=1).unstack()\n",
    "save_factor('eod_combo_xtech_ic_weighted_after', df_combo_ic_weighted_after)"
   ]
  },
  {
   "cell_type": "markdown",
   "id": "e6d83579-cbb6-4620-b4b0-69bc6918f8da",
   "metadata": {},
   "source": [
    "**RankIC等权（排序前）**"
   ]
  },
  {
   "cell_type": "code",
   "execution_count": 215,
   "id": "f77bcd9c-bb32-4022-881c-799a6f94fb8b",
   "metadata": {},
   "outputs": [
    {
     "name": "stdout",
     "output_type": "stream",
     "text": [
      "CPU times: user 59.9 s, sys: 2.59 s, total: 1min 2s\n",
      "Wall time: 1min\n"
     ]
    }
   ],
   "source": [
    "%time df_factor_rankic_equal_rank_percent = transform_rank_percent(df_factor_all*np.where(df_factor_rankic_mean>=0,1,-1))\n",
    "df_combo_rankic_equal_before = df_factor_rankic_equal_rank_percent.mean(\n",
    "    axis=1).unstack()\n",
    "save_factor('eod_combo_xtech_rankic_equal_before',\n",
    "            df_combo_rankic_equal_before)"
   ]
  },
  {
   "cell_type": "markdown",
   "id": "860cdb07-88fb-480f-8114-c3516fff805c",
   "metadata": {},
   "source": [
    "**RankIC等权（排序后）**"
   ]
  },
  {
   "cell_type": "code",
   "execution_count": 216,
   "id": "7de43d21-5877-4712-a23a-05d1c2940668",
   "metadata": {},
   "outputs": [],
   "source": [
    "df_combo_rankic_equal_after = (\n",
    "    df_factor_rank_pct * np.where(df_factor_rankic_mean >= 0, 1, -1)).mean(axis=1).unstack()\n",
    "\n",
    "save_factor('eod_combo_xtech_rankic_equal_after', df_combo_rankic_equal_after)"
   ]
  },
  {
   "cell_type": "markdown",
   "id": "66e3cbbc-0d13-4238-ba15-8929255a9968",
   "metadata": {},
   "source": [
    "**RankIC加权（排序前）**"
   ]
  },
  {
   "cell_type": "code",
   "execution_count": 217,
   "id": "5a7730ce-db8a-4e05-b616-958a73f8cb00",
   "metadata": {},
   "outputs": [],
   "source": [
    "df_factor_rankic_weighted_rank_percent = transform_rank_percent(\n",
    "    df_factor_all * df_factor_rankic_mean)\n",
    "df_combo_rankic_weighted_before = df_factor_rankic_weighted_rank_percent.mean(\n",
    "    axis=1).unstack()\n",
    "save_factor('eod_combo_xtech_rankic_weighted_before',\n",
    "            df_combo_rankic_weighted_before)"
   ]
  },
  {
   "cell_type": "markdown",
   "id": "8c1e3dc5-d7a7-4feb-8f82-f10363aaf499",
   "metadata": {},
   "source": [
    "**RankIC加权（排序后）**"
   ]
  },
  {
   "cell_type": "code",
   "execution_count": 218,
   "id": "e993f76f-6a03-473c-9e93-65ae120405e5",
   "metadata": {},
   "outputs": [],
   "source": [
    "df_combo_rankic_weighted_after = (\n",
    "    df_factor_rank_pct * df_factor_rankic_mean).mean(axis=1).unstack()\n",
    "save_factor('eod_combo_xtech_rankic_weighted_after',\n",
    "            df_combo_rankic_weighted_after)"
   ]
  },
  {
   "cell_type": "markdown",
   "id": "24b97662-3ee9-4058-8f35-467fc5dc7bb0",
   "metadata": {},
   "source": [
    "**大类因子归并**"
   ]
  },
  {
   "cell_type": "code",
   "execution_count": 252,
   "id": "0a0a733f-d6b9-4ddf-83d6-019d60f83c8e",
   "metadata": {},
   "outputs": [],
   "source": [
    "idx_factor_pfx = df_factor_all.columns.str.split(\n",
    "    '_').map(lambda x: x[0]).unique()  # 前缀\n",
    "idx_factor_pfx = idx_factor_pfx.drop(['any', 'hkholders', 'HK'])"
   ]
  },
  {
   "cell_type": "code",
   "execution_count": 256,
   "id": "7ff91d1c-4ed3-4fb3-b26f-74bf545b3f97",
   "metadata": {},
   "outputs": [],
   "source": [
    "dict_factor_category = {\n",
    "    x: df_factor_rankic_equal_rank_percent.\n",
    "    loc[:, df_factor_rankic_equal_rank_percent.columns.str.contains(x)].mean(\n",
    "        axis=1).unstack() for x in idx_factor_pfx\n",
    "}"
   ]
  },
  {
   "cell_type": "code",
   "execution_count": 264,
   "id": "decaa9ad-18e4-4e7c-aa03-b8aedf7063ed",
   "metadata": {},
   "outputs": [],
   "source": [
    "for name in dict_factor_category.keys():\n",
    "    save_factor(f'eod_combo_xtech_cat_{name}', dict_factor_category[name])"
   ]
  },
  {
   "cell_type": "code",
   "execution_count": 285,
   "id": "c6c56b88-ab25-44d4-9a3e-9e5dce2c7b24",
   "metadata": {},
   "outputs": [],
   "source": [
    "os.chdir('/home/zyding/low_fre_backtest_plot/')"
   ]
  },
  {
   "cell_type": "code",
   "execution_count": 286,
   "id": "73e4f816-cc7c-4a0d-9bf7-0e43738895a6",
   "metadata": {},
   "outputs": [],
   "source": [
    "def runBacktest(path_config, name):\n",
    "    with open(path_config, 'r+') as f:\n",
    "        content = f.readlines()\n",
    "        content[0] = f\"combo_name = 'eod_combo_xtech_cat_{name}'\\n\"\n",
    "    with open(path_config, 'w+') as f:\n",
    "        f.writelines(content)\n",
    "    os.system('python main.py')"
   ]
  },
  {
   "cell_type": "code",
   "execution_count": 287,
   "id": "4144f54f-130d-4de1-b1d0-4679e9662712",
   "metadata": {},
   "outputs": [
    {
     "name": "stderr",
     "output_type": "stream",
     "text": [
      "100%|██████████| 18/18 [57:30<00:00, 191.71s/it]\n"
     ]
    }
   ],
   "source": [
    "for name in tqdm(dict_factor_category.keys()):\n",
    "    runBacktest('/home/zyding/low_fre_backtest_plot/configuration.py', name)"
   ]
  },
  {
   "cell_type": "code",
   "execution_count": 289,
   "id": "cd8c766e-a51d-4c28-8e07-d34e5d4e381c",
   "metadata": {},
   "outputs": [
    {
     "data": {
      "text/html": [
       "<div>\n",
       "<style scoped>\n",
       "    .dataframe tbody tr th:only-of-type {\n",
       "        vertical-align: middle;\n",
       "    }\n",
       "\n",
       "    .dataframe tbody tr th {\n",
       "        vertical-align: top;\n",
       "    }\n",
       "\n",
       "    .dataframe thead th {\n",
       "        text-align: right;\n",
       "    }\n",
       "</style>\n",
       "<table border=\"1\" class=\"dataframe\">\n",
       "  <thead>\n",
       "    <tr style=\"text-align: right;\">\n",
       "      <th></th>\n",
       "      <th></th>\n",
       "      <th>winrate_FACTORS_prob</th>\n",
       "    </tr>\n",
       "  </thead>\n",
       "  <tbody>\n",
       "    <tr>\n",
       "      <th rowspan=\"5\" valign=\"top\">000001</th>\n",
       "      <th>20170103</th>\n",
       "      <td>0.929</td>\n",
       "    </tr>\n",
       "    <tr>\n",
       "      <th>20170104</th>\n",
       "      <td>0.929</td>\n",
       "    </tr>\n",
       "    <tr>\n",
       "      <th>20170105</th>\n",
       "      <td>0.929</td>\n",
       "    </tr>\n",
       "    <tr>\n",
       "      <th>20170106</th>\n",
       "      <td>0.929</td>\n",
       "    </tr>\n",
       "    <tr>\n",
       "      <th>20170109</th>\n",
       "      <td>0.929</td>\n",
       "    </tr>\n",
       "    <tr>\n",
       "      <th>...</th>\n",
       "      <th>...</th>\n",
       "      <td>...</td>\n",
       "    </tr>\n",
       "    <tr>\n",
       "      <th rowspan=\"5\" valign=\"top\">689009</th>\n",
       "      <th>20201225</th>\n",
       "      <td>nan</td>\n",
       "    </tr>\n",
       "    <tr>\n",
       "      <th>20201228</th>\n",
       "      <td>nan</td>\n",
       "    </tr>\n",
       "    <tr>\n",
       "      <th>20201229</th>\n",
       "      <td>nan</td>\n",
       "    </tr>\n",
       "    <tr>\n",
       "      <th>20201230</th>\n",
       "      <td>nan</td>\n",
       "    </tr>\n",
       "    <tr>\n",
       "      <th>20201231</th>\n",
       "      <td>nan</td>\n",
       "    </tr>\n",
       "  </tbody>\n",
       "</table>\n",
       "<p>4738510 rows × 1 columns</p>\n",
       "</div>"
      ],
      "text/plain": [
       "                 winrate_FACTORS_prob\n",
       "000001 20170103                 0.929\n",
       "       20170104                 0.929\n",
       "       20170105                 0.929\n",
       "       20170106                 0.929\n",
       "       20170109                 0.929\n",
       "...                               ...\n",
       "689009 20201225                   nan\n",
       "       20201228                   nan\n",
       "       20201229                   nan\n",
       "       20201230                   nan\n",
       "       20201231                   nan\n",
       "\n",
       "[4738510 rows x 1 columns]"
      ]
     },
     "execution_count": 289,
     "metadata": {},
     "output_type": "execute_result"
    }
   ],
   "source": [
    "df_factor_rankic_equal_rank_percent.loc[:,\n",
    "                                        df_factor_rankic_equal_rank_percent.columns.str.contains('winrate')]"
   ]
  },
  {
   "cell_type": "code",
   "execution_count": 311,
   "id": "c87509f9-1ee3-4ce0-adfa-f772af23c7f0",
   "metadata": {},
   "outputs": [
    {
     "data": {
      "text/plain": [
       "<AxesSubplot:xlabel='level_1'>"
      ]
     },
     "execution_count": 311,
     "metadata": {},
     "output_type": "execute_result"
    },
    {
     "data": {
      "image/png": "[encoded data removed]",
      "text/plain": [
       "<Figure size 1440x360 with 1 Axes>"
      ]
     },
     "metadata": {
      "needs_background": "light"
     },
     "output_type": "display_data"
    }
   ],
   "source": [
    "df_factor_rankic['winrate_FACTORS_prob'].plot(figsize=(20, 5))"
   ]
  },
  {
   "cell_type": "code",
   "execution_count": 329,
   "id": "e84006e9-7568-4a7a-90b5-6a2e7c92aadf",
   "metadata": {},
   "outputs": [],
   "source": [
    "dict_factor_select60pct = {\n",
    "    x: dict_factor_category[x].stack(dropna=False) for x in [\n",
    "        'winrate', 'jq', 'hk', 'suntime', 'income', 'quant', 'zhaopin', 'py',\n",
    "        'liangjia', 'ecom', 'emall'\n",
    "    ]\n",
    "}"
   ]
  },
  {
   "cell_type": "code",
   "execution_count": 330,
   "id": "97fdd580-f514-4f83-895f-320881c736d7",
   "metadata": {},
   "outputs": [],
   "source": [
    "df_combo_cat_select60pct = pd.concat(\n",
    "    dict_factor_select60pct.values(), axis=1).mean(axis=1).unstack()"
   ]
  },
  {
   "cell_type": "code",
   "execution_count": 331,
   "id": "a33df8c4-a145-4f59-96d4-4efd631166a1",
   "metadata": {},
   "outputs": [],
   "source": [
    "save_factor('eod_combo_xtech_cat_select60pct', df_combo_cat_select60pct)"
   ]
  },
  {
   "cell_type": "code",
   "execution_count": 332,
   "id": "6f9b6899-60b5-4f22-851f-9b73f5756fab",
   "metadata": {},
   "outputs": [],
   "source": [
    "dict_factor_select50pct = {\n",
    "    x: dict_factor_category[x].stack(dropna=False) for x in [\n",
    "        'winrate', 'jq', 'hk', 'suntime', 'income', 'quant', 'zhaopin', 'py'\n",
    "    ]\n",
    "}\n",
    "df_combo_cat_select50pct = pd.concat(\n",
    "    dict_factor_select50pct.values(), axis=1).mean(axis=1).unstack()\n",
    "save_factor('eod_combo_xtech_cat_select50pct', df_combo_cat_select50pct)"
   ]
  },
  {
   "cell_type": "code",
   "execution_count": null,
   "id": "425134f8-d447-4eb9-9350-2ad18a1b29f7",
   "metadata": {},
   "outputs": [],
   "source": []
  }
 ],
 "metadata": {
  "kernelspec": {
   "display_name": "Python 3",
   "language": "python",
   "name": "python3"
  },
  "language_info": {
   "codemirror_mode": {
    "name": "ipython",
    "version": 3
   },
   "file_extension": ".py",
   "mimetype": "text/x-python",
   "name": "python",
   "nbconvert_exporter": "python",
   "pygments_lexer": "ipython3",
   "version": "3.8.5"
  }
 },
 "nbformat": 4,
 "nbformat_minor": 5
}
